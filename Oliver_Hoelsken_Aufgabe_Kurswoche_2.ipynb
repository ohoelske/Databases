{
  "nbformat": 4,
  "nbformat_minor": 0,
  "metadata": {
    "colab": {
      "name": "Oliver Hoelsken.Aufgabe Kurswoche 2.ipynb",
      "provenance": [],
      "authorship_tag": "ABX9TyM18Nlo6Dz9ydF4u6oj5mpi",
      "include_colab_link": true
    },
    "kernelspec": {
      "name": "python3",
      "display_name": "Python 3"
    }
  },
  "cells": [
    {
      "cell_type": "markdown",
      "metadata": {
        "id": "view-in-github",
        "colab_type": "text"
      },
      "source": [
        "<a href=\"https://colab.research.google.com/github/ohoelske/Databases/blob/main/Oliver_Hoelsken_Aufgabe_Kurswoche_2.ipynb\" target=\"_parent\"><img src=\"https://colab.research.google.com/assets/colab-badge.svg\" alt=\"Open In Colab\"/></a>"
      ]
    },
    {
      "cell_type": "code",
      "metadata": {
        "id": "kkqsvVZZ3bdS"
      },
      "source": [
        "#Hello World"
      ],
      "execution_count": null,
      "outputs": []
    }
  ]
}