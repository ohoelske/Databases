{
  "nbformat": 4,
  "nbformat_minor": 0,
  "metadata": {
    "colab": {
      "name": "210116_Kursaufgabe Woche 2",
      "provenance": [],
      "toc_visible": true,
      "authorship_tag": "ABX9TyMUTUMftg4eFtfr0u26mpde",
      "include_colab_link": true
    },
    "kernelspec": {
      "name": "python3",
      "display_name": "Python 3"
    }
  },
  "cells": [
    {
      "cell_type": "markdown",
      "metadata": {
        "id": "view-in-github",
        "colab_type": "text"
      },
      "source": [
        "<a href=\"https://colab.research.google.com/github/ohoelske/Databases/blob/main/210116_Kursaufgabe_Woche_2.ipynb\" target=\"_parent\"><img src=\"https://colab.research.google.com/assets/colab-badge.svg\" alt=\"Open In Colab\"/></a>"
      ]
    },
    {
      "cell_type": "markdown",
      "metadata": {
        "id": "ESVnMH8nc6E5"
      },
      "source": [
        "# **Kursaufgabe Woche 2 - COVID-19 Patients**"
      ]
    },
    {
      "cell_type": "markdown",
      "metadata": {
        "id": "GKSsPqJPdMhY"
      },
      "source": [
        "# Importing libraries"
      ]
    },
    {
      "cell_type": "code",
      "metadata": {
        "id": "ay2ZZQ49Yjs8"
      },
      "source": [
        "import pandas as pd\r\n",
        "import numpy as np\r\n",
        "import sqlite3 as sq\r\n",
        "from sqlite3 import Error\r\n",
        "from google.colab import drive"
      ],
      "execution_count": 19,
      "outputs": []
    },
    {
      "cell_type": "code",
      "metadata": {
        "colab": {
          "base_uri": "https://localhost:8080/"
        },
        "id": "QlgYcAhmYshD",
        "outputId": "75e070b1-3a80-48af-e52e-d958d7a81d5b"
      },
      "source": [
        "from google.colab import drive\r\n",
        "drive.mount(\"/content/drive\", force_remount=True)"
      ],
      "execution_count": 20,
      "outputs": [
        {
          "output_type": "stream",
          "text": [
            "Mounted at /content/drive\n"
          ],
          "name": "stdout"
        }
      ]
    },
    {
      "cell_type": "code",
      "metadata": {
        "id": "GpZJwseYcipx"
      },
      "source": [
        "material_path = \"/content/drive/MyDrive/csv_data_Oliver\""
      ],
      "execution_count": 21,
      "outputs": []
    },
    {
      "cell_type": "code",
      "metadata": {
        "colab": {
          "base_uri": "https://localhost:8080/"
        },
        "id": "dLKZxKCNcpjl",
        "outputId": "554019f9-8750-4c65-da26-cf80fcddd51d"
      },
      "source": [
        "# list of diseases\r\n",
        "!ls \"/content/drive/MyDrive/csv_data_Oliver\""
      ],
      "execution_count": 22,
      "outputs": [
        {
          "output_type": "stream",
          "text": [
            " allergy\t colorectal_cancer   lung_cancer\n",
            " asthma\t\t covid19\t     metabolic_syndrome_disease\n",
            " breast_cancer\t dermatitis\t    'Outline COVID-19.docx'\n"
          ],
          "name": "stdout"
        }
      ]
    },
    {
      "cell_type": "markdown",
      "metadata": {
        "id": "3KT465nQdcv4"
      },
      "source": [
        "# Path of input/output data"
      ]
    },
    {
      "cell_type": "code",
      "metadata": {
        "id": "igsZ2qEvdg46"
      },
      "source": [
        "## type of patients\r\n",
        "patient_type = \"covid19\""
      ],
      "execution_count": 23,
      "outputs": []
    },
    {
      "cell_type": "code",
      "metadata": {
        "colab": {
          "base_uri": "https://localhost:8080/"
        },
        "id": "6nILUgBjdnUI",
        "outputId": "4c5e57ab-3eaa-40b0-be1e-f05825362992"
      },
      "source": [
        "# source database path\r\n",
        "DB_FILE_PATH = f\"{material_path}/source_dbs/source_{patient_type}_test.db\"\r\n",
        "\r\n",
        "# folder contains csv files\r\n",
        "csv_path = f\"{material_path}/csv_data/{patient_type}/\"\r\n",
        "\r\n",
        "DB_FILE_PATH, csv_path"
      ],
      "execution_count": 24,
      "outputs": [
        {
          "output_type": "execute_result",
          "data": {
            "text/plain": [
              "('/content/drive/MyDrive/csv_data_Oliver/source_dbs/source_covid19_test.db',\n",
              " '/content/drive/MyDrive/csv_data_Oliver/csv_data/covid19/')"
            ]
          },
          "metadata": {
            "tags": []
          },
          "execution_count": 24
        }
      ]
    },
    {
      "cell_type": "markdown",
      "metadata": {
        "id": "v5JM23SNdzy9"
      },
      "source": [
        "#SQL queries to create tables# "
      ]
    },
    {
      "cell_type": "code",
      "metadata": {
        "id": "_uTl_HLueJ_k"
      },
      "source": [
        "# dictionary key: name of table, values: sql query to create table\r\n",
        "sql_table = {}"
      ],
      "execution_count": 25,
      "outputs": []
    },
    {
      "cell_type": "code",
      "metadata": {
        "id": "OA8Nql3jeQek"
      },
      "source": [
        "# sql query to create disease table\r\n",
        "sql_table[\"disease\"] = \"\"\"CREATE TABLE IF NOT EXISTS disease (\r\n",
        "                           START DATE,\r\n",
        "                           STOP DATE,\r\n",
        "                           PATIENT STRING,\r\n",
        "                           ENCOUNTER STRING,\r\n",
        "                           CODE STRING,\r\n",
        "                           DESCRIPTION STRING,\r\n",
        "                           FOREIGN KEY (PATIENT)\r\n",
        "                              REFERENCES patients (Id) \r\n",
        "                           FOREIGN KEY (Encounter)\r\n",
        "                              REFERENCES encounters (Id)\r\n",
        "                           \r\n",
        "                       );\"\"\""
      ],
      "execution_count": 26,
      "outputs": []
    },
    {
      "cell_type": "code",
      "metadata": {
        "id": "zM8J9aMhegTU"
      },
      "source": [
        "#  sql query to create patients table\r\n",
        "sql_table[\"patients\"] = \"\"\"CREATE TABLE IF NOT EXISTS patients (\r\n",
        "                           Id STRING PRIMARY KEY,\r\n",
        "                           BIRTHDATE DATE,\r\n",
        "                           DEATHDATE DATE,\r\n",
        "                           SSN STRING,\r\n",
        "                           DRIVERS STRING,\r\n",
        "                           PASSPORT STRING,\r\n",
        "                           PREFIX STRING,\r\n",
        "                           FIRST STRING,\r\n",
        "                           LAST STRING,\r\n",
        "                           SUFFIX STRING,\r\n",
        "                           MAIDEN STRING,\r\n",
        "                           MARITAL STRING,\r\n",
        "                           RACE STRING,\r\n",
        "                           ETHNICITY STRING,\r\n",
        "                           GENDER STRING,\r\n",
        "                           BIRTHPLACE STRING,\r\n",
        "                           ADDRESS STRING,\r\n",
        "                           CITY STRING,\r\n",
        "                           STATE STRING,\r\n",
        "                           COUNTRY STRING,\r\n",
        "                           ZIP STRING,\r\n",
        "                           LAT INTEGER,\r\n",
        "                           LON INTEGER,\r\n",
        "                           HEALTHCARE_EXPENSES INTEGER,\r\n",
        "                           HEALTHCARE_COVERAGE INTEGER\r\n",
        "                       );\"\"\"\r\n",
        "      "
      ],
      "execution_count": 27,
      "outputs": []
    },
    {
      "cell_type": "code",
      "metadata": {
        "id": "SGZVDDnTekks"
      },
      "source": [
        "# sql query to create encounters table\r\n",
        "sql_table[\"encounters\"] = \"\"\"CREATE TABLE IF NOT EXISTS encounters (\r\n",
        "                           Id STRING PRIMARY KEY,\r\n",
        "                           START DATE,\r\n",
        "                           STOP DATE,\r\n",
        "                           PATIENT STRING,\r\n",
        "                           ORGANIZATIONS STRING,\r\n",
        "                           PROVIDER STRING,\r\n",
        "                           PAYER STRING,\r\n",
        "                           ENCOUNTERCLASS STRING,\r\n",
        "                           CODE STRING,\r\n",
        "                           DESCRIPTION STRING,\r\n",
        "                           BASE_ENCOUNTER_COST INTEGER,\r\n",
        "                           TOTAL_CLAIM_COST INTEGER,\r\n",
        "                           PAYER_COVERAGE INTEGER,\r\n",
        "                           REASONCODE STRING,\r\n",
        "                           REASONDESCRIPTION STRING,\r\n",
        "                           FOREIGN KEY (PATIENT)\r\n",
        "                              REFERENCES patients (Id) \r\n",
        "                       );\"\"\"\r\n"
      ],
      "execution_count": 28,
      "outputs": []
    },
    {
      "cell_type": "code",
      "metadata": {
        "id": "-pk9ab6herco"
      },
      "source": [
        "# sql query to create careplans table\r\n",
        "sql_table[\"careplans\"] = \"\"\"CREATE TABLE IF NOT EXISTS careplans (\r\n",
        "                           Id STRING PRIMARY KEY,\r\n",
        "                           START DATE,\r\n",
        "                           STOP DATE,\r\n",
        "                           PATIENT STRING,\r\n",
        "                           ENCOUNTER STRING,\r\n",
        "                           CODE STRING,\r\n",
        "                           DESCRIPTION STRING,\r\n",
        "                           REASONCODE STRING,\r\n",
        "                           REASONDESCRIPTION STRING,\r\n",
        "                           FOREIGN KEY (PATIENT)\r\n",
        "                              REFERENCES patients (Id) \r\n",
        "                           FOREIGN KEY (Encounter)\r\n",
        "                              REFERENCES encounters (Id) \r\n",
        "\r\n",
        "                       );\"\"\""
      ],
      "execution_count": 29,
      "outputs": []
    },
    {
      "cell_type": "code",
      "metadata": {
        "id": "ieCKK3LgevTd"
      },
      "source": [
        "# sql query to create conditions table\r\n",
        "sql_table[\"conditions\"] = \"\"\"CREATE TABLE IF NOT EXISTS conditions (\r\n",
        "                           START DATE,\r\n",
        "                           STOP DATE,\r\n",
        "                           PATIENT STRING,\r\n",
        "                           ENCOUNTER STRING,\r\n",
        "                           CODE STRING,\r\n",
        "                           DESCRIPTION STRING,\r\n",
        "                           FOREIGN KEY (PATIENT)\r\n",
        "                              REFERENCES patients (Id) \r\n",
        "                           FOREIGN KEY (Encounter)\r\n",
        "                              REFERENCES encounters (Id) \r\n",
        "\r\n",
        "                       );\"\"\""
      ],
      "execution_count": 30,
      "outputs": []
    },
    {
      "cell_type": "code",
      "metadata": {
        "id": "6iS8Whcre1c9"
      },
      "source": [
        "# sql query to create medications table\r\n",
        "sql_table[\"medications\"] = \"\"\"CREATE TABLE IF NOT EXISTS medications (\r\n",
        "                           START DATE,\r\n",
        "                           STOP DATE,\r\n",
        "                           PATIENT STRING,\r\n",
        "                           PAYER STRING,\r\n",
        "                           ENCOUNTER STRING,\r\n",
        "                           CODE STRING,\r\n",
        "                           DESCRIPTION STRING,\r\n",
        "                           BASE_COST INTEGER,\r\n",
        "                           PAYER_COVERAGE INTEGER,\r\n",
        "                           DISPENSES INTEGER,\r\n",
        "                           TOTALCOST INTEGER,\r\n",
        "                           REASONCODE STRING,\r\n",
        "                           REASONDESCRIPTION STRING,\r\n",
        "                           FOREIGN KEY (PATIENT)\r\n",
        "                              REFERENCES patients (Id) \r\n",
        "                           \r\n",
        "                       );\"\"\"\r\n"
      ],
      "execution_count": 31,
      "outputs": []
    },
    {
      "cell_type": "code",
      "metadata": {
        "id": "22nT8jAje5zd"
      },
      "source": [
        "# # sql query to create procedures table\r\n",
        "sql_table[\"procedures\"]= \"\"\"CREATE TABLE IF NOT EXISTS procedures (\r\n",
        "                           DATE DATE,\r\n",
        "                           PATIENT STRING,\r\n",
        "                           ENCOUNTER STRING,\r\n",
        "                           CODE STRING,\r\n",
        "                           DESCRIPTION STRING,\r\n",
        "                           BASE_COST INTEGER,\r\n",
        "                           REASONCODE STRING,\r\n",
        "                           REASONDESCRIPTION STRING,\r\n",
        "                           FOREIGN KEY (PATIENT)\r\n",
        "                              REFERENCES patients (Id) \r\n",
        "                           FOREIGN KEY (Encounter)\r\n",
        "                              REFERENCES encounters (Id) \r\n",
        "\r\n",
        "                       );\"\"\"\r\n"
      ],
      "execution_count": 32,
      "outputs": []
    },
    {
      "cell_type": "code",
      "metadata": {
        "id": "rgn1aZKze7me"
      },
      "source": [
        "# # sql query to create observations table\r\n",
        "sql_table[\"observations\"]= \"\"\"CREATE TABLE IF NOT EXISTS observations (\r\n",
        "                           DATE DATE,\r\n",
        "                           PATIENT STRING,\r\n",
        "                           ENCOUNTER STRING,\r\n",
        "                           CODE STRING,\r\n",
        "                           DESCRIPTION STRING,\r\n",
        "                           VALUE STRING,\r\n",
        "                           UNITS STRING,\r\n",
        "                           TYPE STRING,\r\n",
        "                           FOREIGN KEY (PATIENT)\r\n",
        "                              REFERENCES patients (Id) \r\n",
        "                           FOREIGN KEY (Encounter)\r\n",
        "                              REFERENCES encounters (Id) \r\n",
        "\r\n",
        "                       );\"\"\""
      ],
      "execution_count": 33,
      "outputs": []
    },
    {
      "cell_type": "code",
      "metadata": {
        "id": "uUmJULPze-b5"
      },
      "source": [
        "# sql query to create devices table\r\n",
        "sql_table[\"devices\"] = \"\"\"CREATE TABLE IF NOT EXISTS devices (\r\n",
        "                           START DATE,\r\n",
        "                           STOP DATE,\r\n",
        "                           PATIENT STRING,\r\n",
        "                           ENCOUNTER STRING,\r\n",
        "                           CODE STRING,\r\n",
        "                           DESCRIPTION STRING,\r\n",
        "                           UDI STRING,\r\n",
        "                           FOREIGN KEY (PATIENT)\r\n",
        "                              REFERENCES patients (Id) \r\n",
        "                           FOREIGN KEY (Encounter)\r\n",
        "                              REFERENCES encounters (Id)\r\n",
        "                           \r\n",
        "                       );\"\"\"\r\n"
      ],
      "execution_count": 34,
      "outputs": []
    },
    {
      "cell_type": "code",
      "metadata": {
        "id": "Q4wYJinQfAG1"
      },
      "source": [
        "# sql query to create Imaging_studies table\r\n",
        "sql_table[\"imaging_studies\"] = \"\"\"CREATE TABLE IF NOT EXISTS imaging_studies (\r\n",
        "                           Id STRING PRIMARY KEY,\r\n",
        "                           DATE DATE,\r\n",
        "                           PATIENT STRING,\r\n",
        "                           ENCOUNTER STRING,\r\n",
        "                           BODYSITE_CODE STRING,\r\n",
        "                           BODYSITE_DESCRIPTION STRING,\r\n",
        "                           MODALITY_CODE STRING,\r\n",
        "                           MODALITY_DESCRIPTION STRING,\r\n",
        "                           SOP_CODE STRING,\r\n",
        "                           SOP_DESCRIPTION STRING,\r\n",
        "                           FOREIGN KEY (PATIENT)\r\n",
        "                              REFERENCES patients (Id) \r\n",
        "                           FOREIGN KEY (Encounter)\r\n",
        "                              REFERENCES encounters (Id) \r\n",
        "\r\n",
        "                       );\"\"\""
      ],
      "execution_count": 35,
      "outputs": []
    },
    {
      "cell_type": "code",
      "metadata": {
        "id": "Qd7d-ICffCGA"
      },
      "source": [
        "# sql query to create Immunizations table\r\n",
        "sql_table[\"immunizations\"]= \"\"\"CREATE TABLE IF NOT EXISTS immunizations(\r\n",
        "                           DATE DATE,\r\n",
        "                           PATIENT STRING,\r\n",
        "                           ENCOUNTER STRING,\r\n",
        "                           CODE STRING,\r\n",
        "                           DESCRIPTION STRING,\r\n",
        "                           BASE_COST INTEGER,\r\n",
        "                           FOREIGN KEY (PATIENT)\r\n",
        "                              REFERENCES patients (Id) \r\n",
        "                           FOREIGN KEY (Encounter)\r\n",
        "                              REFERENCES encounters (Id) \r\n",
        "\r\n",
        "                       );\"\"\""
      ],
      "execution_count": 36,
      "outputs": []
    },
    {
      "cell_type": "markdown",
      "metadata": {
        "id": "9uM9ZrxcfC7E"
      },
      "source": [
        "# Import csv files into database tables"
      ]
    },
    {
      "cell_type": "code",
      "metadata": {
        "id": "uB4PzL9Jly9G"
      },
      "source": [
        "def create_connection_file():\r\n",
        "    \"\"\" create a database connection to a database that resides\r\n",
        "        in a file 'covid19_test.db'\r\n",
        "    \"\"\"\r\n",
        "    conn = None;\r\n",
        "    try:\r\n",
        "       #Establishing the connection\r\n",
        "        conn = sq.connect('/content/drive/MyDrive/csv_data_Oliver/covid19/covid19_test.db')\r\n",
        "        return conn\r\n",
        "        print(sq.version)\r\n",
        "    except Error as e:\r\n",
        "        print(\"Error while connecting to sqlite\", e)\r\n",
        "\r\n",
        "# Creating a temporary empty database in the memory.\r\n",
        "conn = create_connection_file()\r\n",
        "# Creating a cursor object using the cursor() method\r\n",
        "cur = conn.cursor()"
      ],
      "execution_count": 37,
      "outputs": []
    },
    {
      "cell_type": "code",
      "metadata": {
        "colab": {
          "base_uri": "https://localhost:8080/"
        },
        "id": "8_HpQLPbfXCI",
        "outputId": "d7c42a0d-434a-43a0-b814-085b8da47d75"
      },
      "source": [
        "# list of tables\r\n",
        "sql_table.keys()"
      ],
      "execution_count": 38,
      "outputs": [
        {
          "output_type": "execute_result",
          "data": {
            "text/plain": [
              "dict_keys(['disease', 'patients', 'encounters', 'careplans', 'conditions', 'medications', 'procedures', 'observations', 'devices', 'imaging_studies', 'immunizations'])"
            ]
          },
          "metadata": {
            "tags": []
          },
          "execution_count": 38
        }
      ]
    },
    {
      "cell_type": "code",
      "metadata": {
        "colab": {
          "base_uri": "https://localhost:8080/",
          "height": 467
        },
        "id": "hECfH0ppniud",
        "outputId": "6e15c041-7530-4868-ba9b-2d94bb768ad1"
      },
      "source": [
        " pd.read_csv(f'/content/drive/MyDrive/csv_data_Oliver/covid19/encounters.csv').head()"
      ],
      "execution_count": 40,
      "outputs": [
        {
          "output_type": "execute_result",
          "data": {
            "text/html": [
              "<div>\n",
              "<style scoped>\n",
              "    .dataframe tbody tr th:only-of-type {\n",
              "        vertical-align: middle;\n",
              "    }\n",
              "\n",
              "    .dataframe tbody tr th {\n",
              "        vertical-align: top;\n",
              "    }\n",
              "\n",
              "    .dataframe thead th {\n",
              "        text-align: right;\n",
              "    }\n",
              "</style>\n",
              "<table border=\"1\" class=\"dataframe\">\n",
              "  <thead>\n",
              "    <tr style=\"text-align: right;\">\n",
              "      <th></th>\n",
              "      <th>Id</th>\n",
              "      <th>START</th>\n",
              "      <th>STOP</th>\n",
              "      <th>PATIENT</th>\n",
              "      <th>ORGANIZATION</th>\n",
              "      <th>PROVIDER</th>\n",
              "      <th>PAYER</th>\n",
              "      <th>ENCOUNTERCLASS</th>\n",
              "      <th>CODE</th>\n",
              "      <th>DESCRIPTION</th>\n",
              "      <th>BASE_ENCOUNTER_COST</th>\n",
              "      <th>TOTAL_CLAIM_COST</th>\n",
              "      <th>PAYER_COVERAGE</th>\n",
              "      <th>REASONCODE</th>\n",
              "      <th>REASONDESCRIPTION</th>\n",
              "    </tr>\n",
              "  </thead>\n",
              "  <tbody>\n",
              "    <tr>\n",
              "      <th>0</th>\n",
              "      <td>7627d701-6c75-be69-0fcc-aeb32ea27270</td>\n",
              "      <td>2013-10-21T09:22:47Z</td>\n",
              "      <td>2013-10-21T09:37:47Z</td>\n",
              "      <td>f7dddcba-380e-7fd4-20b0-da086ce5dc3a</td>\n",
              "      <td>3feeb8f0-7e8a-3cbb-8557-3cd7df027ce1</td>\n",
              "      <td>7f540f46-bac2-342c-bc19-49f3689f92fa</td>\n",
              "      <td>42c4fca7-f8a9-3cd1-982a-dd9751bf3e2a</td>\n",
              "      <td>wellness</td>\n",
              "      <td>162673000</td>\n",
              "      <td>General examination of patient (procedure)</td>\n",
              "      <td>129.16</td>\n",
              "      <td>129.16</td>\n",
              "      <td>129.16</td>\n",
              "      <td>NaN</td>\n",
              "      <td>NaN</td>\n",
              "    </tr>\n",
              "    <tr>\n",
              "      <th>1</th>\n",
              "      <td>e0361112-89b9-9057-f577-ce5878f47f86</td>\n",
              "      <td>2011-09-17T21:57:21Z</td>\n",
              "      <td>2011-09-17T22:12:21Z</td>\n",
              "      <td>ad5525c0-fdab-94dc-018f-d7209c72bdef</td>\n",
              "      <td>1248b93c-56ef-3c3a-adab-56eb2c991c4d</td>\n",
              "      <td>815da5a3-1099-3657-ab9e-68d4e6c601cc</td>\n",
              "      <td>7c4411ce-02f1-39b5-b9ec-dfbea9ad3c1a</td>\n",
              "      <td>wellness</td>\n",
              "      <td>162673000</td>\n",
              "      <td>General examination of patient (procedure)</td>\n",
              "      <td>129.16</td>\n",
              "      <td>129.16</td>\n",
              "      <td>129.16</td>\n",
              "      <td>NaN</td>\n",
              "      <td>NaN</td>\n",
              "    </tr>\n",
              "    <tr>\n",
              "      <th>2</th>\n",
              "      <td>2891a0e4-ee92-6a31-c4e4-5de8cedddf19</td>\n",
              "      <td>2011-09-11T17:40:13Z</td>\n",
              "      <td>2011-09-11T17:55:13Z</td>\n",
              "      <td>2812f4fc-6aba-0033-728b-7e569bb8adcc</td>\n",
              "      <td>5b1e6842-ca09-3521-ae67-3dbf4ff7638f</td>\n",
              "      <td>03912e14-e103-393a-9c30-9c7dc13938f9</td>\n",
              "      <td>7caa7254-5050-3b5e-9eae-bd5ea30e809c</td>\n",
              "      <td>wellness</td>\n",
              "      <td>162673000</td>\n",
              "      <td>General examination of patient (procedure)</td>\n",
              "      <td>129.16</td>\n",
              "      <td>129.16</td>\n",
              "      <td>129.16</td>\n",
              "      <td>NaN</td>\n",
              "      <td>NaN</td>\n",
              "    </tr>\n",
              "    <tr>\n",
              "      <th>3</th>\n",
              "      <td>a736e521-64e7-fe9c-6261-8776b3ab3d76</td>\n",
              "      <td>2012-02-24T15:16:17Z</td>\n",
              "      <td>2012-02-24T15:31:17Z</td>\n",
              "      <td>7f30313f-98e9-2cc2-68a5-6f9973f9ad5a</td>\n",
              "      <td>5a9ded14-4f2b-3d66-9301-02c8fb81c8fd</td>\n",
              "      <td>b4a12dd1-91cf-3c2a-a120-4390255fda1c</td>\n",
              "      <td>047f6ec3-6215-35eb-9608-f9dda363a44c</td>\n",
              "      <td>wellness</td>\n",
              "      <td>162673000</td>\n",
              "      <td>General examination of patient (procedure)</td>\n",
              "      <td>129.16</td>\n",
              "      <td>129.16</td>\n",
              "      <td>129.16</td>\n",
              "      <td>NaN</td>\n",
              "      <td>NaN</td>\n",
              "    </tr>\n",
              "    <tr>\n",
              "      <th>4</th>\n",
              "      <td>1f7153da-bb06-0645-7e15-1f82cff08975</td>\n",
              "      <td>2014-12-12T15:16:17Z</td>\n",
              "      <td>2014-12-12T15:31:17Z</td>\n",
              "      <td>7f30313f-98e9-2cc2-68a5-6f9973f9ad5a</td>\n",
              "      <td>5a9ded14-4f2b-3d66-9301-02c8fb81c8fd</td>\n",
              "      <td>b4a12dd1-91cf-3c2a-a120-4390255fda1c</td>\n",
              "      <td>047f6ec3-6215-35eb-9608-f9dda363a44c</td>\n",
              "      <td>wellness</td>\n",
              "      <td>162673000</td>\n",
              "      <td>General examination of patient (procedure)</td>\n",
              "      <td>129.16</td>\n",
              "      <td>129.16</td>\n",
              "      <td>129.16</td>\n",
              "      <td>NaN</td>\n",
              "      <td>NaN</td>\n",
              "    </tr>\n",
              "  </tbody>\n",
              "</table>\n",
              "</div>"
            ],
            "text/plain": [
              "                                     Id  ... REASONDESCRIPTION\n",
              "0  7627d701-6c75-be69-0fcc-aeb32ea27270  ...               NaN\n",
              "1  e0361112-89b9-9057-f577-ce5878f47f86  ...               NaN\n",
              "2  2891a0e4-ee92-6a31-c4e4-5de8cedddf19  ...               NaN\n",
              "3  a736e521-64e7-fe9c-6261-8776b3ab3d76  ...               NaN\n",
              "4  1f7153da-bb06-0645-7e15-1f82cff08975  ...               NaN\n",
              "\n",
              "[5 rows x 15 columns]"
            ]
          },
          "metadata": {
            "tags": []
          },
          "execution_count": 40
        }
      ]
    },
    {
      "cell_type": "markdown",
      "metadata": {
        "id": "mAmvh307s_hT"
      },
      "source": [
        "# Indexing"
      ]
    },
    {
      "cell_type": "code",
      "metadata": {
        "colab": {
          "base_uri": "https://localhost:8080/",
          "height": 441
        },
        "id": "zSq0MDmx3Wt6",
        "outputId": "60326dcc-1e27-47d6-8050-260ece7d4b95"
      },
      "source": [
        "# Indexing for city in the patients table\r\n",
        "idx_patients_city = pd.read_sql_query(\"CREATE INDEX city_index ON patients (City);\", conn)"
      ],
      "execution_count": 39,
      "outputs": [
        {
          "output_type": "error",
          "ename": "DatabaseError",
          "evalue": "ignored",
          "traceback": [
            "\u001b[0;31m---------------------------------------------------------------------------\u001b[0m",
            "\u001b[0;31mOperationalError\u001b[0m                          Traceback (most recent call last)",
            "\u001b[0;32m/usr/local/lib/python3.6/dist-packages/pandas/io/sql.py\u001b[0m in \u001b[0;36mexecute\u001b[0;34m(self, *args, **kwargs)\u001b[0m\n\u001b[1;32m   1680\u001b[0m         \u001b[0;32mtry\u001b[0m\u001b[0;34m:\u001b[0m\u001b[0;34m\u001b[0m\u001b[0;34m\u001b[0m\u001b[0m\n\u001b[0;32m-> 1681\u001b[0;31m             \u001b[0mcur\u001b[0m\u001b[0;34m.\u001b[0m\u001b[0mexecute\u001b[0m\u001b[0;34m(\u001b[0m\u001b[0;34m*\u001b[0m\u001b[0margs\u001b[0m\u001b[0;34m,\u001b[0m \u001b[0;34m**\u001b[0m\u001b[0mkwargs\u001b[0m\u001b[0;34m)\u001b[0m\u001b[0;34m\u001b[0m\u001b[0;34m\u001b[0m\u001b[0m\n\u001b[0m\u001b[1;32m   1682\u001b[0m             \u001b[0;32mreturn\u001b[0m \u001b[0mcur\u001b[0m\u001b[0;34m\u001b[0m\u001b[0;34m\u001b[0m\u001b[0m\n",
            "\u001b[0;31mOperationalError\u001b[0m: index city_index already exists",
            "\nThe above exception was the direct cause of the following exception:\n",
            "\u001b[0;31mDatabaseError\u001b[0m                             Traceback (most recent call last)",
            "\u001b[0;32m<ipython-input-39-32ac2c8eb205>\u001b[0m in \u001b[0;36m<module>\u001b[0;34m()\u001b[0m\n\u001b[1;32m      1\u001b[0m \u001b[0;31m# Indexing for city in the patients table\u001b[0m\u001b[0;34m\u001b[0m\u001b[0;34m\u001b[0m\u001b[0;34m\u001b[0m\u001b[0m\n\u001b[0;32m----> 2\u001b[0;31m \u001b[0midx_patients_city\u001b[0m \u001b[0;34m=\u001b[0m \u001b[0mpd\u001b[0m\u001b[0;34m.\u001b[0m\u001b[0mread_sql_query\u001b[0m\u001b[0;34m(\u001b[0m\u001b[0;34m\"CREATE INDEX city_index ON patients (City);\"\u001b[0m\u001b[0;34m,\u001b[0m \u001b[0mconn\u001b[0m\u001b[0;34m)\u001b[0m\u001b[0;34m\u001b[0m\u001b[0;34m\u001b[0m\u001b[0m\n\u001b[0m",
            "\u001b[0;32m/usr/local/lib/python3.6/dist-packages/pandas/io/sql.py\u001b[0m in \u001b[0;36mread_sql_query\u001b[0;34m(sql, con, index_col, coerce_float, params, parse_dates, chunksize)\u001b[0m\n\u001b[1;32m    381\u001b[0m         \u001b[0mcoerce_float\u001b[0m\u001b[0;34m=\u001b[0m\u001b[0mcoerce_float\u001b[0m\u001b[0;34m,\u001b[0m\u001b[0;34m\u001b[0m\u001b[0;34m\u001b[0m\u001b[0m\n\u001b[1;32m    382\u001b[0m         \u001b[0mparse_dates\u001b[0m\u001b[0;34m=\u001b[0m\u001b[0mparse_dates\u001b[0m\u001b[0;34m,\u001b[0m\u001b[0;34m\u001b[0m\u001b[0;34m\u001b[0m\u001b[0m\n\u001b[0;32m--> 383\u001b[0;31m         \u001b[0mchunksize\u001b[0m\u001b[0;34m=\u001b[0m\u001b[0mchunksize\u001b[0m\u001b[0;34m,\u001b[0m\u001b[0;34m\u001b[0m\u001b[0;34m\u001b[0m\u001b[0m\n\u001b[0m\u001b[1;32m    384\u001b[0m     )\n\u001b[1;32m    385\u001b[0m \u001b[0;34m\u001b[0m\u001b[0m\n",
            "\u001b[0;32m/usr/local/lib/python3.6/dist-packages/pandas/io/sql.py\u001b[0m in \u001b[0;36mread_query\u001b[0;34m(self, sql, index_col, coerce_float, params, parse_dates, chunksize)\u001b[0m\n\u001b[1;32m   1725\u001b[0m \u001b[0;34m\u001b[0m\u001b[0m\n\u001b[1;32m   1726\u001b[0m         \u001b[0margs\u001b[0m \u001b[0;34m=\u001b[0m \u001b[0m_convert_params\u001b[0m\u001b[0;34m(\u001b[0m\u001b[0msql\u001b[0m\u001b[0;34m,\u001b[0m \u001b[0mparams\u001b[0m\u001b[0;34m)\u001b[0m\u001b[0;34m\u001b[0m\u001b[0;34m\u001b[0m\u001b[0m\n\u001b[0;32m-> 1727\u001b[0;31m         \u001b[0mcursor\u001b[0m \u001b[0;34m=\u001b[0m \u001b[0mself\u001b[0m\u001b[0;34m.\u001b[0m\u001b[0mexecute\u001b[0m\u001b[0;34m(\u001b[0m\u001b[0;34m*\u001b[0m\u001b[0margs\u001b[0m\u001b[0;34m)\u001b[0m\u001b[0;34m\u001b[0m\u001b[0;34m\u001b[0m\u001b[0m\n\u001b[0m\u001b[1;32m   1728\u001b[0m         \u001b[0mcolumns\u001b[0m \u001b[0;34m=\u001b[0m \u001b[0;34m[\u001b[0m\u001b[0mcol_desc\u001b[0m\u001b[0;34m[\u001b[0m\u001b[0;36m0\u001b[0m\u001b[0;34m]\u001b[0m \u001b[0;32mfor\u001b[0m \u001b[0mcol_desc\u001b[0m \u001b[0;32min\u001b[0m \u001b[0mcursor\u001b[0m\u001b[0;34m.\u001b[0m\u001b[0mdescription\u001b[0m\u001b[0;34m]\u001b[0m\u001b[0;34m\u001b[0m\u001b[0;34m\u001b[0m\u001b[0m\n\u001b[1;32m   1729\u001b[0m \u001b[0;34m\u001b[0m\u001b[0m\n",
            "\u001b[0;32m/usr/local/lib/python3.6/dist-packages/pandas/io/sql.py\u001b[0m in \u001b[0;36mexecute\u001b[0;34m(self, *args, **kwargs)\u001b[0m\n\u001b[1;32m   1691\u001b[0m \u001b[0;34m\u001b[0m\u001b[0m\n\u001b[1;32m   1692\u001b[0m             \u001b[0mex\u001b[0m \u001b[0;34m=\u001b[0m \u001b[0mDatabaseError\u001b[0m\u001b[0;34m(\u001b[0m\u001b[0;34mf\"Execution failed on sql '{args[0]}': {exc}\"\u001b[0m\u001b[0;34m)\u001b[0m\u001b[0;34m\u001b[0m\u001b[0;34m\u001b[0m\u001b[0m\n\u001b[0;32m-> 1693\u001b[0;31m             \u001b[0;32mraise\u001b[0m \u001b[0mex\u001b[0m \u001b[0;32mfrom\u001b[0m \u001b[0mexc\u001b[0m\u001b[0;34m\u001b[0m\u001b[0;34m\u001b[0m\u001b[0m\n\u001b[0m\u001b[1;32m   1694\u001b[0m \u001b[0;34m\u001b[0m\u001b[0m\n\u001b[1;32m   1695\u001b[0m     \u001b[0;34m@\u001b[0m\u001b[0mstaticmethod\u001b[0m\u001b[0;34m\u001b[0m\u001b[0;34m\u001b[0m\u001b[0m\n",
            "\u001b[0;31mDatabaseError\u001b[0m: Execution failed on sql 'CREATE INDEX city_index ON patients (City);': index city_index already exists"
          ]
        }
      ]
    },
    {
      "cell_type": "markdown",
      "metadata": {
        "id": "83SoEE6LzM4m"
      },
      "source": [
        "# Eingrenzung "
      ]
    },
    {
      "cell_type": "code",
      "metadata": {
        "colab": {
          "base_uri": "https://localhost:8080/",
          "height": 77
        },
        "id": "OmsZgListNo-",
        "outputId": "14f11f97-5867-45a3-fcd6-483097ed546b"
      },
      "source": [
        "# Look for patients undergoing \"Electrical cardioversion\" in the procedures table\r\n",
        "count_patients_cardioversion = pd.read_sql_query(\"SELECT COUNT(Description) FROM procedures WHERE Description='Electrical cardioversion';\", conn) #Anzahl an Patienten mit Cardioversion\r\n",
        "count_patients_cardioversion"
      ],
      "execution_count": 41,
      "outputs": [
        {
          "output_type": "execute_result",
          "data": {
            "text/html": [
              "<div>\n",
              "<style scoped>\n",
              "    .dataframe tbody tr th:only-of-type {\n",
              "        vertical-align: middle;\n",
              "    }\n",
              "\n",
              "    .dataframe tbody tr th {\n",
              "        vertical-align: top;\n",
              "    }\n",
              "\n",
              "    .dataframe thead th {\n",
              "        text-align: right;\n",
              "    }\n",
              "</style>\n",
              "<table border=\"1\" class=\"dataframe\">\n",
              "  <thead>\n",
              "    <tr style=\"text-align: right;\">\n",
              "      <th></th>\n",
              "      <th>COUNT(Description)</th>\n",
              "    </tr>\n",
              "  </thead>\n",
              "  <tbody>\n",
              "    <tr>\n",
              "      <th>0</th>\n",
              "      <td>182</td>\n",
              "    </tr>\n",
              "  </tbody>\n",
              "</table>\n",
              "</div>"
            ],
            "text/plain": [
              "   COUNT(Description)\n",
              "0                 182"
            ]
          },
          "metadata": {
            "tags": []
          },
          "execution_count": 41
        }
      ]
    },
    {
      "cell_type": "code",
      "metadata": {
        "colab": {
          "base_uri": "https://localhost:8080/",
          "height": 132
        },
        "id": "wHGbPe4J0BdO",
        "outputId": "33ecafc9-8efc-400a-bd4c-7ccfefbf1ef7"
      },
      "source": [
        "pat_tables = pd.read_sql_query(\r\n",
        "    \"CREATE TABLE Persons (\r\n",
        "      ID int NOT NULL PRIMARY KEY,\r\n",
        "      LastName varchar(255) NOT NULL,\r\n",
        "      FirstName varchar(255),\r\n",
        "      Age int);\"), conn)\r\n",
        "pat_tables"
      ],
      "execution_count": 44,
      "outputs": [
        {
          "output_type": "error",
          "ename": "SyntaxError",
          "evalue": "ignored",
          "traceback": [
            "\u001b[0;36m  File \u001b[0;32m\"<ipython-input-44-ca83b674f513>\"\u001b[0;36m, line \u001b[0;32m2\u001b[0m\n\u001b[0;31m    \"CREATE TABLE Persons (\u001b[0m\n\u001b[0m                           ^\u001b[0m\n\u001b[0;31mSyntaxError\u001b[0m\u001b[0;31m:\u001b[0m EOL while scanning string literal\n"
          ]
        }
      ]
    }
  ]
}