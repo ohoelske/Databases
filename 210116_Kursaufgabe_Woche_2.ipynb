{
  "nbformat": 4,
  "nbformat_minor": 0,
  "metadata": {
    "colab": {
      "name": "210116_Kursaufgabe Woche 2",
      "provenance": [],
      "authorship_tag": "ABX9TyMVa5AED6VmvuHLTPPvGyFj",
      "include_colab_link": true
    },
    "kernelspec": {
      "name": "python3",
      "display_name": "Python 3"
    }
  },
  "cells": [
    {
      "cell_type": "markdown",
      "metadata": {
        "id": "view-in-github",
        "colab_type": "text"
      },
      "source": [
        "<a href=\"https://colab.research.google.com/github/ohoelske/Databases/blob/main/210116_Kursaufgabe_Woche_2.ipynb\" target=\"_parent\"><img src=\"https://colab.research.google.com/assets/colab-badge.svg\" alt=\"Open In Colab\"/></a>"
      ]
    },
    {
      "cell_type": "markdown",
      "metadata": {
        "id": "4UV0wG-kXaOj"
      },
      "source": [
        "210116_Kursaufgabe Woche 2"
      ]
    },
    {
      "cell_type": "code",
      "metadata": {
        "id": "mkCrSaCfXicj"
      },
      "source": [
        ""
      ],
      "execution_count": null,
      "outputs": []
    }
  ]
}