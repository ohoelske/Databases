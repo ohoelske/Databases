{
  "nbformat": 4,
  "nbformat_minor": 0,
  "metadata": {
    "colab": {
      "name": "210116_Kursaufgabe Woche 2",
      "provenance": [],
      "toc_visible": true,
      "authorship_tag": "ABX9TyM/0e/dP69eSx2WtYnmsTh5",
      "include_colab_link": true
    },
    "kernelspec": {
      "name": "python3",
      "display_name": "Python 3"
    }
  },
  "cells": [
    {
      "cell_type": "markdown",
      "metadata": {
        "id": "view-in-github",
        "colab_type": "text"
      },
      "source": [
        "<a href=\"https://colab.research.google.com/github/ohoelske/Databases/blob/main/210116_Kursaufgabe_Woche_2.ipynb\" target=\"_parent\"><img src=\"https://colab.research.google.com/assets/colab-badge.svg\" alt=\"Open In Colab\"/></a>"
      ]
    },
    {
      "cell_type": "markdown",
      "metadata": {
        "id": "ESVnMH8nc6E5"
      },
      "source": [
        "# **Kursaufgabe Woche 2 - Asthma patients**"
      ]
    },
    {
      "cell_type": "markdown",
      "metadata": {
        "id": "GKSsPqJPdMhY"
      },
      "source": [
        "# Importing libraries"
      ]
    },
    {
      "cell_type": "code",
      "metadata": {
        "id": "ay2ZZQ49Yjs8"
      },
      "source": [
        "import pandas as pd\r\n",
        "from functools import reduce\r\n",
        "import sqlite3\r\n",
        "from sqlite3 import Error\r\n",
        "import csv"
      ],
      "execution_count": 154,
      "outputs": []
    },
    {
      "cell_type": "code",
      "metadata": {
        "colab": {
          "base_uri": "https://localhost:8080/"
        },
        "id": "QlgYcAhmYshD",
        "outputId": "56a71cb8-ba26-487b-8cdf-62e461a10627"
      },
      "source": [
        "from google.colab import drive\r\n",
        "drive.mount(\"/content/drive\", force_remount=True)"
      ],
      "execution_count": 155,
      "outputs": [
        {
          "output_type": "stream",
          "text": [
            "Mounted at /content/drive\n"
          ],
          "name": "stdout"
        }
      ]
    },
    {
      "cell_type": "code",
      "metadata": {
        "id": "GpZJwseYcipx"
      },
      "source": [
        "material_path = \"/content/drive/MyDrive/csv_data_Oliver/asthma/\""
      ],
      "execution_count": 181,
      "outputs": []
    },
    {
      "cell_type": "code",
      "metadata": {
        "colab": {
          "base_uri": "https://localhost:8080/"
        },
        "id": "dLKZxKCNcpjl",
        "outputId": "1b16f2d2-5cb1-4657-9fe8-f85569c646a8"
      },
      "source": [
        "# list of elements in directory\r\n",
        "!ls \"/content/drive/MyDrive/csv_data_Oliver/asthma/\""
      ],
      "execution_count": 185,
      "outputs": [
        {
          "output_type": "stream",
          "text": [
            "asthma_test.db\tencounters.csv\t     observations.xlsx\t    procedures.csv\n",
            "careplans.csv\timaging_studies.csv  organizations.csv\t    providers.csv\n",
            "conditions.csv\timmunizations.csv    patients.csv\t    source_asthma.db\n",
            "devices.csv\tmedications.csv      payers.csv\t\t    supplies.csv\n",
            "disease.csv\tobservations.csv     payer_transitions.csv\n"
          ],
          "name": "stdout"
        }
      ]
    },
    {
      "cell_type": "markdown",
      "metadata": {
        "id": "3KT465nQdcv4"
      },
      "source": [
        "# Path of input/output data"
      ]
    },
    {
      "cell_type": "code",
      "metadata": {
        "id": "igsZ2qEvdg46"
      },
      "source": [
        "## type of patients\r\n",
        "patient_type = \"asthma\""
      ],
      "execution_count": 186,
      "outputs": []
    },
    {
      "cell_type": "code",
      "metadata": {
        "colab": {
          "base_uri": "https://localhost:8080/"
        },
        "id": "6nILUgBjdnUI",
        "outputId": "cabe5ecf-7599-44fe-c073-fb21029554b5"
      },
      "source": [
        "# source database path\r\n",
        "DB_FILE_PATH = f\"{material_path}{patient_type}_test.db\"\r\n",
        "\r\n",
        "# folder contains csv files\r\n",
        "csv_path = f\"{material_path}\"\r\n",
        "\r\n",
        "DB_FILE_PATH, csv_path"
      ],
      "execution_count": 187,
      "outputs": [
        {
          "output_type": "execute_result",
          "data": {
            "text/plain": [
              "('/content/drive/MyDrive/csv_data_Oliver/asthma/asthma_test.db',\n",
              " '/content/drive/MyDrive/csv_data_Oliver/asthma/')"
            ]
          },
          "metadata": {
            "tags": []
          },
          "execution_count": 187
        }
      ]
    },
    {
      "cell_type": "markdown",
      "metadata": {
        "id": "v5JM23SNdzy9"
      },
      "source": [
        "#SQL queries to create tables# "
      ]
    },
    {
      "cell_type": "code",
      "metadata": {
        "id": "_uTl_HLueJ_k"
      },
      "source": [
        "# dictionary key: name of table, values: sql query to create table\r\n",
        "sql_table = {}\r\n",
        "sql_index = {}"
      ],
      "execution_count": 221,
      "outputs": []
    },
    {
      "cell_type": "code",
      "metadata": {
        "id": "OA8Nql3jeQek"
      },
      "source": [
        "# sql query to create disease table\r\n",
        "sql_table[\"disease\"] = \"\"\"CREATE TABLE IF NOT EXISTS disease (\r\n",
        "                           START DATE,\r\n",
        "                           STOP DATE,\r\n",
        "                           PATIENT STRING,\r\n",
        "                           ENCOUNTER STRING,\r\n",
        "                           CODE STRING,\r\n",
        "                           DESCRIPTION STRING,\r\n",
        "                           FOREIGN KEY (PATIENT)\r\n",
        "                              REFERENCES patients (Id) \r\n",
        "                           FOREIGN KEY (Encounter)\r\n",
        "                              REFERENCES encounters (Id)\r\n",
        "                           \r\n",
        "                       );\"\"\"\r\n",
        "sql_index[\"disease_patient\"] = \"\"\"CREATE INDEX ix_disease_patient on disease(PATIENT);\"\"\""
      ],
      "execution_count": 222,
      "outputs": []
    },
    {
      "cell_type": "code",
      "metadata": {
        "id": "zM8J9aMhegTU"
      },
      "source": [
        "#  sql query to create patients table\r\n",
        "sql_table[\"patients\"] = \"\"\"CREATE TABLE IF NOT EXISTS patients (\r\n",
        "                           Id STRING PRIMARY KEY,\r\n",
        "                           BIRTHDATE DATE,\r\n",
        "                           DEATHDATE DATE,\r\n",
        "                           SSN STRING,\r\n",
        "                           DRIVERS STRING,\r\n",
        "                           PASSPORT STRING,\r\n",
        "                           PREFIX STRING,\r\n",
        "                           FIRST STRING,\r\n",
        "                           LAST STRING,\r\n",
        "                           SUFFIX STRING,\r\n",
        "                           MAIDEN STRING,\r\n",
        "                           MARITAL STRING,\r\n",
        "                           RACE STRING,\r\n",
        "                           ETHNICITY STRING,\r\n",
        "                           GENDER STRING,\r\n",
        "                           BIRTHPLACE STRING,\r\n",
        "                           ADDRESS STRING,\r\n",
        "                           CITY STRING,\r\n",
        "                           STATE STRING,\r\n",
        "                           COUNTRY STRING,\r\n",
        "                           ZIP STRING,\r\n",
        "                           LAT INTEGER,\r\n",
        "                           LON INTEGER,\r\n",
        "                           HEALTHCARE_EXPENSES INTEGER,\r\n",
        "                           HEALTHCARE_COVERAGE INTEGER\r\n",
        "                       );\"\"\"\r\n",
        "sql_index[\"patients_race\"] = \"\"\"CREATE INDEX ix_patients_race on patients(RACE);\"\"\" "
      ],
      "execution_count": 223,
      "outputs": []
    },
    {
      "cell_type": "code",
      "metadata": {
        "id": "SGZVDDnTekks"
      },
      "source": [
        "# sql query to create encounters table\r\n",
        "sql_table[\"encounters\"] = \"\"\"CREATE TABLE IF NOT EXISTS encounters (\r\n",
        "                           Id STRING PRIMARY KEY,\r\n",
        "                           START DATE,\r\n",
        "                           STOP DATE,\r\n",
        "                           PATIENT STRING,\r\n",
        "                           ORGANIZATIONS STRING,\r\n",
        "                           PROVIDER STRING,\r\n",
        "                           PAYER STRING,\r\n",
        "                           ENCOUNTERCLASS STRING,\r\n",
        "                           CODE STRING,\r\n",
        "                           DESCRIPTION STRING,\r\n",
        "                           BASE_ENCOUNTER_COST INTEGER,\r\n",
        "                           TOTAL_CLAIM_COST INTEGER,\r\n",
        "                           PAYER_COVERAGE INTEGER,\r\n",
        "                           REASONCODE STRING,\r\n",
        "                           REASONDESCRIPTION STRING,\r\n",
        "                           FOREIGN KEY (PATIENT)\r\n",
        "                              REFERENCES patients (Id) \r\n",
        "                       );\"\"\"\r\n",
        "sql_index[\"encounters_patient\"] = \"\"\"CREATE INDEX ix_encounters_patients on encounters(PATIENT);\"\"\" "
      ],
      "execution_count": 224,
      "outputs": []
    },
    {
      "cell_type": "code",
      "metadata": {
        "id": "-pk9ab6herco"
      },
      "source": [
        "# sql query to create careplans table\r\n",
        "sql_table[\"careplans\"] = \"\"\"CREATE TABLE IF NOT EXISTS careplans (\r\n",
        "                           Id STRING PRIMARY KEY,\r\n",
        "                           START DATE,\r\n",
        "                           STOP DATE,\r\n",
        "                           PATIENT STRING,\r\n",
        "                           ENCOUNTER STRING,\r\n",
        "                           CODE STRING,\r\n",
        "                           DESCRIPTION STRING,\r\n",
        "                           REASONCODE STRING,\r\n",
        "                           REASONDESCRIPTION STRING,\r\n",
        "                           FOREIGN KEY (PATIENT)\r\n",
        "                              REFERENCES patients (Id) \r\n",
        "                           FOREIGN KEY (Encounter)\r\n",
        "                              REFERENCES encounters (Id) \r\n",
        "\r\n",
        "                       );\"\"\"\r\n",
        "                       \r\n",
        "sql_index[\"careplans_patient\"] = \"\"\"CREATE INDEX ix_careplans_patients on careplans(PATIENT);\"\"\""
      ],
      "execution_count": 225,
      "outputs": []
    },
    {
      "cell_type": "code",
      "metadata": {
        "id": "ieCKK3LgevTd"
      },
      "source": [
        "# sql query to create conditions table\r\n",
        "sql_table[\"conditions\"] = \"\"\"CREATE TABLE IF NOT EXISTS conditions (\r\n",
        "                           START DATE,\r\n",
        "                           STOP DATE,\r\n",
        "                           PATIENT STRING,\r\n",
        "                           ENCOUNTER STRING,\r\n",
        "                           CODE STRING,\r\n",
        "                           DESCRIPTION STRING,\r\n",
        "                           FOREIGN KEY (PATIENT)\r\n",
        "                              REFERENCES patients (Id) \r\n",
        "                           FOREIGN KEY (Encounter)\r\n",
        "                              REFERENCES encounters (Id) \r\n",
        "\r\n",
        "                       );\"\"\"\r\n",
        "sql_index[\"conditions_patient\"] = \"\"\"CREATE INDEX ix_conditions_patient on conditions(PATIENT);\"\"\""
      ],
      "execution_count": 226,
      "outputs": []
    },
    {
      "cell_type": "code",
      "metadata": {
        "id": "6iS8Whcre1c9"
      },
      "source": [
        "# sql query to create medications table\r\n",
        "sql_table[\"medications\"] = \"\"\"CREATE TABLE IF NOT EXISTS medications (\r\n",
        "                           START DATE,\r\n",
        "                           STOP DATE,\r\n",
        "                           PATIENT STRING,\r\n",
        "                           PAYER STRING,\r\n",
        "                           ENCOUNTER STRING,\r\n",
        "                           CODE STRING,\r\n",
        "                           DESCRIPTION STRING,\r\n",
        "                           BASE_COST INTEGER,\r\n",
        "                           PAYER_COVERAGE INTEGER,\r\n",
        "                           DISPENSES INTEGER,\r\n",
        "                           TOTALCOST INTEGER,\r\n",
        "                           REASONCODE STRING,\r\n",
        "                           REASONDESCRIPTION STRING,\r\n",
        "                           FOREIGN KEY (PATIENT)\r\n",
        "                              REFERENCES patients (Id) \r\n",
        "                           \r\n",
        "                       );\"\"\"\r\n",
        "sql_index[\"medications_description\"] = \"\"\"CREATE INDEX ix_medications_description on medications(DESCRIPTION);\"\"\""
      ],
      "execution_count": 227,
      "outputs": []
    },
    {
      "cell_type": "code",
      "metadata": {
        "id": "22nT8jAje5zd"
      },
      "source": [
        "# # sql query to create procedures table\r\n",
        "sql_table[\"procedures\"]= \"\"\"CREATE TABLE IF NOT EXISTS procedures (\r\n",
        "                           DATE DATE,\r\n",
        "                           PATIENT STRING,\r\n",
        "                           ENCOUNTER STRING,\r\n",
        "                           CODE STRING,\r\n",
        "                           DESCRIPTION STRING,\r\n",
        "                           BASE_COST INTEGER,\r\n",
        "                           REASONCODE STRING,\r\n",
        "                           REASONDESCRIPTION STRING,\r\n",
        "                           FOREIGN KEY (PATIENT)\r\n",
        "                              REFERENCES patients (Id) \r\n",
        "                           FOREIGN KEY (Encounter)\r\n",
        "                              REFERENCES encounters (Id) \r\n",
        "\r\n",
        "                       );\"\"\"\r\n",
        "sql_index[\"procedures_patient\"] = \"\"\"CREATE INDEX ix_procedures_patient on procedures(PATIENT);\"\"\""
      ],
      "execution_count": 228,
      "outputs": []
    },
    {
      "cell_type": "code",
      "metadata": {
        "id": "rgn1aZKze7me"
      },
      "source": [
        "# # sql query to create observations table\r\n",
        "sql_table[\"observations\"]= \"\"\"CREATE TABLE IF NOT EXISTS observations (\r\n",
        "                           DATE DATE,\r\n",
        "                           PATIENT STRING,\r\n",
        "                           ENCOUNTER STRING,\r\n",
        "                           CODE STRING,\r\n",
        "                           DESCRIPTION STRING,\r\n",
        "                           VALUE STRING,\r\n",
        "                           UNITS STRING,\r\n",
        "                           TYPE STRING,\r\n",
        "                           FOREIGN KEY (PATIENT)\r\n",
        "                              REFERENCES patients (Id) \r\n",
        "                           FOREIGN KEY (Encounter)\r\n",
        "                              REFERENCES encounters (Id) \r\n",
        "\r\n",
        "                       );\"\"\"\r\n",
        "sql_index[\"observations_patient\"] = \"\"\"CREATE INDEX ix_observations_patient on observations(PATIENT);\"\"\""
      ],
      "execution_count": 229,
      "outputs": []
    },
    {
      "cell_type": "code",
      "metadata": {
        "id": "uUmJULPze-b5"
      },
      "source": [
        "# sql query to create devices table\r\n",
        "sql_table[\"devices\"] = \"\"\"CREATE TABLE IF NOT EXISTS devices (\r\n",
        "                           START DATE,\r\n",
        "                           STOP DATE,\r\n",
        "                           PATIENT STRING,\r\n",
        "                           ENCOUNTER STRING,\r\n",
        "                           CODE STRING,\r\n",
        "                           DESCRIPTION STRING,\r\n",
        "                           UDI STRING,\r\n",
        "                           FOREIGN KEY (PATIENT)\r\n",
        "                              REFERENCES patients (Id) \r\n",
        "                           FOREIGN KEY (Encounter)\r\n",
        "                              REFERENCES encounters (Id)\r\n",
        "                           \r\n",
        "                       );\"\"\"\r\n",
        "sql_index[\"devices_patient\"] = \"\"\"CREATE INDEX ix_devices_patient on devices(PATIENT);\"\"\""
      ],
      "execution_count": 230,
      "outputs": []
    },
    {
      "cell_type": "code",
      "metadata": {
        "id": "Q4wYJinQfAG1"
      },
      "source": [
        "# sql query to create Imaging_studies table\r\n",
        "sql_table[\"imaging_studies\"] = \"\"\"CREATE TABLE IF NOT EXISTS imaging_studies (\r\n",
        "                           Id STRING PRIMARY KEY,\r\n",
        "                           DATE DATE,\r\n",
        "                           PATIENT STRING,\r\n",
        "                           ENCOUNTER STRING,\r\n",
        "                           BODYSITE_CODE STRING,\r\n",
        "                           BODYSITE_DESCRIPTION STRING,\r\n",
        "                           MODALITY_CODE STRING,\r\n",
        "                           MODALITY_DESCRIPTION STRING,\r\n",
        "                           SOP_CODE STRING,\r\n",
        "                           SOP_DESCRIPTION STRING,\r\n",
        "                           FOREIGN KEY (PATIENT)\r\n",
        "                              REFERENCES patients (Id) \r\n",
        "                           FOREIGN KEY (Encounter)\r\n",
        "                              REFERENCES encounters (Id) \r\n",
        "\r\n",
        "                       );\"\"\"\r\n",
        "sql_index[\"imaging_studies_patient\"] = \"\"\"CREATE INDEX ix_imaging_studies_patient on imaging_studies(PATIENT);\"\"\""
      ],
      "execution_count": 231,
      "outputs": []
    },
    {
      "cell_type": "code",
      "metadata": {
        "id": "Qd7d-ICffCGA"
      },
      "source": [
        "# sql query to create Immunizations table\r\n",
        "sql_table[\"immunizations\"]= \"\"\"CREATE TABLE IF NOT EXISTS immunizations(\r\n",
        "                           DATE DATE,\r\n",
        "                           PATIENT STRING,\r\n",
        "                           ENCOUNTER STRING,\r\n",
        "                           CODE STRING,\r\n",
        "                           DESCRIPTION STRING,\r\n",
        "                           BASE_COST INTEGER,\r\n",
        "                           FOREIGN KEY (PATIENT)\r\n",
        "                              REFERENCES patients (Id) \r\n",
        "                           FOREIGN KEY (Encounter)\r\n",
        "                              REFERENCES encounters (Id) \r\n",
        "\r\n",
        "                       );\"\"\"\r\n",
        "sql_index[\"immunizations_patient\"] = \"\"\"CREATE INDEX ix_immunizations_patient on immunizations(PATIENT);\"\"\""
      ],
      "execution_count": 232,
      "outputs": []
    },
    {
      "cell_type": "markdown",
      "metadata": {
        "id": "9uM9ZrxcfC7E"
      },
      "source": [
        "# Import csv files into database tables"
      ]
    },
    {
      "cell_type": "code",
      "metadata": {
        "id": "G4BYTBqUoOAK"
      },
      "source": [
        "def connect_to_db(db_file):\r\n",
        "    \"\"\"\r\n",
        "    Connect to an SQlite database, if db file does not exist it will be created\r\n",
        "    :param db_file: absolute or relative path of db file\r\n",
        "    :return: sqlite3 connection\r\n",
        "    \"\"\"\r\n",
        "    sqlite3_conn = None\r\n",
        "\r\n",
        "    try:\r\n",
        "        sqlite3_conn = sqlite3.connect(db_file)\r\n",
        "        return sqlite3_conn\r\n",
        "\r\n",
        "    except Error as err:\r\n",
        "        print(err)\r\n",
        "\r\n",
        "        if sqlite3_conn is not None:\r\n",
        "            sqlite3_conn.close()"
      ],
      "execution_count": 233,
      "outputs": []
    },
    {
      "cell_type": "code",
      "metadata": {
        "id": "ue9zAbs1mqlj"
      },
      "source": [
        "\r\n",
        "\r\n",
        "def insert_values_to_table(cursor, table_name, csv_file_path):\r\n",
        "\r\n",
        "    \"\"\"\r\n",
        "    Open a csv file, store its content in a list excluding header and insert the data from the list to db table\r\n",
        "    :param table_name: table name in the database to insert the data into\r\n",
        "    :param csv_file_path: path of the csv file to process\r\n",
        "    :return: None\r\n",
        "    \"\"\"\r\n",
        "\r\n",
        "    # Read CSV file content\r\n",
        "    values_to_insert = open_csv_file(csv_file_path)\r\n",
        "\r\n",
        "    # Insert to table\r\n",
        "    if len(values_to_insert) > 0:\r\n",
        "        column_names, column_numbers = get_column_names_from_db_table(cursor, table_name)\r\n",
        "\r\n",
        "        values_str = '?,' * column_numbers\r\n",
        "        # print(\"*****\", values_str, column_names, column_numbers)\r\n",
        "        values_str = values_str[:-1]\r\n",
        "\r\n",
        "        sql_query = 'INSERT OR REPLACE INTO ' + table_name + '(' + column_names + ') VALUES (' + values_str + ')'\r\n",
        "\r\n",
        "\r\n",
        "        cursor.executemany(sql_query, values_to_insert)\r\n",
        "        # conn.commit()\r\n",
        "\r\n",
        "        print('SQL insert process finished')\r\n",
        "    else:\r\n",
        "        print('Nothing to insert')\r\n",
        "\r\n",
        "        # conn.close()\r\n",
        "\r\n",
        "    # else:\r\n",
        "        # print('Connection to database failed')\r\n",
        "\r\n",
        "\r\n",
        "def open_csv_file(csv_file_path):\r\n",
        "    \"\"\"\r\n",
        "    Open and read data from a csv file without headers (skipping the first row)\r\n",
        "    :param csv_file_path: path of the csv file to process\r\n",
        "    :return: a list with the csv content\r\n",
        "    \"\"\"\r\n",
        "    with open(csv_file_path, 'r', encoding='utf-8') as csv_file:\r\n",
        "        reader = csv.reader(csv_file)\r\n",
        "        next(reader)\r\n",
        "\r\n",
        "        data = list()\r\n",
        "        for row in reader:\r\n",
        "            data.append(row)\r\n",
        "\r\n",
        "        return data\r\n",
        "\r\n",
        "\r\n",
        "def get_column_names_from_db_table(sql_cursor, table_name):\r\n",
        "    \"\"\"\r\n",
        "    Scrape the column names from a database table to a list and convert to a comma separated string, count the number\r\n",
        "    of columns in a database table\r\n",
        "    :param sql_cursor: sqlite cursor\r\n",
        "    :param table_name: table name to get the column names from\r\n",
        "    :return: a comma separated string with column names, an integer with number of columns\r\n",
        "    \"\"\"\r\n",
        "\r\n",
        "    table_column_names = 'PRAGMA table_info(' + table_name + ');'\r\n",
        "    sql_cursor.execute(table_column_names)\r\n",
        "    table_column_names = sql_cursor.fetchall()\r\n",
        "\r\n",
        "    column_count = len(table_column_names)\r\n",
        "\r\n",
        "    column_names = list()\r\n",
        "\r\n",
        "    for name in table_column_names:\r\n",
        "        column_names.append(name[1])\r\n",
        "\r\n",
        "    return ', '.join(column_names), column_count\r\n"
      ],
      "execution_count": 234,
      "outputs": []
    },
    {
      "cell_type": "code",
      "metadata": {
        "colab": {
          "base_uri": "https://localhost:8080/"
        },
        "id": "097u8fNvmwFz",
        "outputId": "7cdefcd2-fa2d-4086-ce40-693641a889ab"
      },
      "source": [
        "sql_table.keys()"
      ],
      "execution_count": 235,
      "outputs": [
        {
          "output_type": "execute_result",
          "data": {
            "text/plain": [
              "dict_keys(['disease', 'patients', 'encounters', 'careplans', 'conditions', 'medications', 'procedures', 'observations', 'devices', 'imaging_studies', 'immunizations'])"
            ]
          },
          "metadata": {
            "tags": []
          },
          "execution_count": 235
        }
      ]
    },
    {
      "cell_type": "code",
      "metadata": {
        "colab": {
          "base_uri": "https://localhost:8080/"
        },
        "id": "EVT8xaojm2nn",
        "outputId": "bd55a823-4e05-486c-ddeb-047ab7f044b6"
      },
      "source": [
        "sql_index.keys()"
      ],
      "execution_count": 238,
      "outputs": [
        {
          "output_type": "execute_result",
          "data": {
            "text/plain": [
              "dict_keys(['disease_patient', 'patients_race', 'encounters_patient', 'careplans_patient', 'conditions_patient', 'medications_description', 'procedures_patient', 'observations_patient', 'devices_patient', 'imaging_studies_patient', 'immunizations_patient'])"
            ]
          },
          "metadata": {
            "tags": []
          },
          "execution_count": 238
        }
      ]
    },
    {
      "cell_type": "code",
      "metadata": {
        "colab": {
          "base_uri": "https://localhost:8080/"
        },
        "id": "Wz4AsgOfm82Q",
        "outputId": "bd58d7ef-e330-462c-def7-e5d9b8badf79"
      },
      "source": [
        "# import csv into db\r\n",
        "conn = connect_to_db(DB_FILE_PATH)\r\n",
        "if conn is not None:\r\n",
        "        cursor = conn.cursor()\r\n",
        "        for name in sql_table.keys():\r\n",
        "          csv_file = csv_path + name + \".csv\"\r\n",
        "          print(name, csv_file)\r\n",
        "          \r\n",
        "          cursor.execute(sql_table[name])\r\n",
        "\r\n",
        "          insert_values_to_table(cursor, name, csv_file)\r\n",
        "        # conn.commit()\r\n",
        "else:\r\n",
        "        print('Connection to database failed')"
      ],
      "execution_count": 239,
      "outputs": [
        {
          "output_type": "stream",
          "text": [
            "disease /content/drive/MyDrive/csv_data_Oliver/asthma/disease.csv\n",
            "Nothing to insert\n",
            "patients /content/drive/MyDrive/csv_data_Oliver/asthma/patients.csv\n",
            "SQL insert process finished\n",
            "encounters /content/drive/MyDrive/csv_data_Oliver/asthma/encounters.csv\n",
            "SQL insert process finished\n",
            "careplans /content/drive/MyDrive/csv_data_Oliver/asthma/careplans.csv\n",
            "SQL insert process finished\n",
            "conditions /content/drive/MyDrive/csv_data_Oliver/asthma/conditions.csv\n",
            "SQL insert process finished\n",
            "medications /content/drive/MyDrive/csv_data_Oliver/asthma/medications.csv\n",
            "SQL insert process finished\n",
            "procedures /content/drive/MyDrive/csv_data_Oliver/asthma/procedures.csv\n",
            "SQL insert process finished\n",
            "observations /content/drive/MyDrive/csv_data_Oliver/asthma/observations.csv\n",
            "SQL insert process finished\n",
            "devices /content/drive/MyDrive/csv_data_Oliver/asthma/devices.csv\n",
            "SQL insert process finished\n",
            "imaging_studies /content/drive/MyDrive/csv_data_Oliver/asthma/imaging_studies.csv\n",
            "Nothing to insert\n",
            "immunizations /content/drive/MyDrive/csv_data_Oliver/asthma/immunizations.csv\n",
            "SQL insert process finished\n"
          ],
          "name": "stdout"
        }
      ]
    },
    {
      "cell_type": "code",
      "metadata": {
        "colab": {
          "base_uri": "https://localhost:8080/",
          "height": 467
        },
        "id": "hECfH0ppniud",
        "outputId": "ec8feb66-9e03-424a-9279-c3e80f734b26"
      },
      "source": [
        " pd.read_csv(f'/content/drive/MyDrive/csv_data_Oliver/asthma/encounters.csv').head()"
      ],
      "execution_count": 240,
      "outputs": [
        {
          "output_type": "execute_result",
          "data": {
            "text/html": [
              "<div>\n",
              "<style scoped>\n",
              "    .dataframe tbody tr th:only-of-type {\n",
              "        vertical-align: middle;\n",
              "    }\n",
              "\n",
              "    .dataframe tbody tr th {\n",
              "        vertical-align: top;\n",
              "    }\n",
              "\n",
              "    .dataframe thead th {\n",
              "        text-align: right;\n",
              "    }\n",
              "</style>\n",
              "<table border=\"1\" class=\"dataframe\">\n",
              "  <thead>\n",
              "    <tr style=\"text-align: right;\">\n",
              "      <th></th>\n",
              "      <th>Id</th>\n",
              "      <th>START</th>\n",
              "      <th>STOP</th>\n",
              "      <th>PATIENT</th>\n",
              "      <th>ORGANIZATION</th>\n",
              "      <th>PROVIDER</th>\n",
              "      <th>PAYER</th>\n",
              "      <th>ENCOUNTERCLASS</th>\n",
              "      <th>CODE</th>\n",
              "      <th>DESCRIPTION</th>\n",
              "      <th>BASE_ENCOUNTER_COST</th>\n",
              "      <th>TOTAL_CLAIM_COST</th>\n",
              "      <th>PAYER_COVERAGE</th>\n",
              "      <th>REASONCODE</th>\n",
              "      <th>REASONDESCRIPTION</th>\n",
              "    </tr>\n",
              "  </thead>\n",
              "  <tbody>\n",
              "    <tr>\n",
              "      <th>0</th>\n",
              "      <td>fb4fbf02-f226-57df-4833-6ae69dbe7585</td>\n",
              "      <td>2011-06-24T09:28:17Z</td>\n",
              "      <td>2011-06-24T09:43:17Z</td>\n",
              "      <td>47f5131d-ccd1-0c75-1ecf-e86d69c0bbad</td>\n",
              "      <td>ff917dd4-ffbb-3f4c-b2df-445a7e9d29aa</td>\n",
              "      <td>16517796-2211-33db-9445-05fc9c431a3f</td>\n",
              "      <td>d47b3510-2895-3b70-9897-342d681c769d</td>\n",
              "      <td>wellness</td>\n",
              "      <td>162673000</td>\n",
              "      <td>General examination of patient (procedure)</td>\n",
              "      <td>129.16</td>\n",
              "      <td>129.16</td>\n",
              "      <td>129.16</td>\n",
              "      <td>NaN</td>\n",
              "      <td>NaN</td>\n",
              "    </tr>\n",
              "    <tr>\n",
              "      <th>1</th>\n",
              "      <td>419132c1-42c1-d19b-5012-e156305bda0a</td>\n",
              "      <td>2014-06-27T09:28:17Z</td>\n",
              "      <td>2014-06-27T09:43:17Z</td>\n",
              "      <td>47f5131d-ccd1-0c75-1ecf-e86d69c0bbad</td>\n",
              "      <td>ff917dd4-ffbb-3f4c-b2df-445a7e9d29aa</td>\n",
              "      <td>16517796-2211-33db-9445-05fc9c431a3f</td>\n",
              "      <td>d47b3510-2895-3b70-9897-342d681c769d</td>\n",
              "      <td>wellness</td>\n",
              "      <td>162673000</td>\n",
              "      <td>General examination of patient (procedure)</td>\n",
              "      <td>129.16</td>\n",
              "      <td>129.16</td>\n",
              "      <td>129.16</td>\n",
              "      <td>NaN</td>\n",
              "      <td>NaN</td>\n",
              "    </tr>\n",
              "    <tr>\n",
              "      <th>2</th>\n",
              "      <td>3397fd20-fbb5-b5a0-479e-a476794bc108</td>\n",
              "      <td>2017-04-14T09:28:17Z</td>\n",
              "      <td>2017-04-14T09:43:17Z</td>\n",
              "      <td>47f5131d-ccd1-0c75-1ecf-e86d69c0bbad</td>\n",
              "      <td>ff917dd4-ffbb-3f4c-b2df-445a7e9d29aa</td>\n",
              "      <td>16517796-2211-33db-9445-05fc9c431a3f</td>\n",
              "      <td>d47b3510-2895-3b70-9897-342d681c769d</td>\n",
              "      <td>wellness</td>\n",
              "      <td>162673000</td>\n",
              "      <td>General examination of patient (procedure)</td>\n",
              "      <td>129.16</td>\n",
              "      <td>129.16</td>\n",
              "      <td>129.16</td>\n",
              "      <td>NaN</td>\n",
              "      <td>NaN</td>\n",
              "    </tr>\n",
              "    <tr>\n",
              "      <th>3</th>\n",
              "      <td>07ab566c-22bb-a641-735f-373eb17289b5</td>\n",
              "      <td>2019-04-19T09:28:17Z</td>\n",
              "      <td>2019-04-19T09:43:17Z</td>\n",
              "      <td>47f5131d-ccd1-0c75-1ecf-e86d69c0bbad</td>\n",
              "      <td>ff917dd4-ffbb-3f4c-b2df-445a7e9d29aa</td>\n",
              "      <td>16517796-2211-33db-9445-05fc9c431a3f</td>\n",
              "      <td>d47b3510-2895-3b70-9897-342d681c769d</td>\n",
              "      <td>wellness</td>\n",
              "      <td>162673000</td>\n",
              "      <td>General examination of patient (procedure)</td>\n",
              "      <td>129.16</td>\n",
              "      <td>129.16</td>\n",
              "      <td>129.16</td>\n",
              "      <td>NaN</td>\n",
              "      <td>NaN</td>\n",
              "    </tr>\n",
              "    <tr>\n",
              "      <th>4</th>\n",
              "      <td>95e2707d-e9cc-49c8-3b8b-4d51d1e694ad</td>\n",
              "      <td>2013-07-17T21:25:09Z</td>\n",
              "      <td>2013-07-17T21:40:09Z</td>\n",
              "      <td>11df2d68-ee41-de46-08ed-1a459c75ee9a</td>\n",
              "      <td>b9a14c6c-d83f-306d-b261-778e45158c77</td>\n",
              "      <td>1d284b7d-51f7-3cef-97f7-3e7e6fab446c</td>\n",
              "      <td>047f6ec3-6215-35eb-9608-f9dda363a44c</td>\n",
              "      <td>wellness</td>\n",
              "      <td>162673000</td>\n",
              "      <td>General examination of patient (procedure)</td>\n",
              "      <td>129.16</td>\n",
              "      <td>129.16</td>\n",
              "      <td>129.16</td>\n",
              "      <td>NaN</td>\n",
              "      <td>NaN</td>\n",
              "    </tr>\n",
              "  </tbody>\n",
              "</table>\n",
              "</div>"
            ],
            "text/plain": [
              "                                     Id  ... REASONDESCRIPTION\n",
              "0  fb4fbf02-f226-57df-4833-6ae69dbe7585  ...               NaN\n",
              "1  419132c1-42c1-d19b-5012-e156305bda0a  ...               NaN\n",
              "2  3397fd20-fbb5-b5a0-479e-a476794bc108  ...               NaN\n",
              "3  07ab566c-22bb-a641-735f-373eb17289b5  ...               NaN\n",
              "4  95e2707d-e9cc-49c8-3b8b-4d51d1e694ad  ...               NaN\n",
              "\n",
              "[5 rows x 15 columns]"
            ]
          },
          "metadata": {
            "tags": []
          },
          "execution_count": 240
        }
      ]
    },
    {
      "cell_type": "code",
      "metadata": {
        "colab": {
          "base_uri": "https://localhost:8080/",
          "height": 467
        },
        "id": "pCwYkcaxtSx4",
        "outputId": "8f5c9ed4-1154-4b78-b104-9788301a65b5"
      },
      "source": [
        "pd.read_csv(f'/content/drive/MyDrive/csv_data_Oliver/asthma/patients.csv').head()"
      ],
      "execution_count": 241,
      "outputs": [
        {
          "output_type": "execute_result",
          "data": {
            "text/html": [
              "<div>\n",
              "<style scoped>\n",
              "    .dataframe tbody tr th:only-of-type {\n",
              "        vertical-align: middle;\n",
              "    }\n",
              "\n",
              "    .dataframe tbody tr th {\n",
              "        vertical-align: top;\n",
              "    }\n",
              "\n",
              "    .dataframe thead th {\n",
              "        text-align: right;\n",
              "    }\n",
              "</style>\n",
              "<table border=\"1\" class=\"dataframe\">\n",
              "  <thead>\n",
              "    <tr style=\"text-align: right;\">\n",
              "      <th></th>\n",
              "      <th>Id</th>\n",
              "      <th>BIRTHDATE</th>\n",
              "      <th>DEATHDATE</th>\n",
              "      <th>SSN</th>\n",
              "      <th>DRIVERS</th>\n",
              "      <th>PASSPORT</th>\n",
              "      <th>PREFIX</th>\n",
              "      <th>FIRST</th>\n",
              "      <th>LAST</th>\n",
              "      <th>SUFFIX</th>\n",
              "      <th>MAIDEN</th>\n",
              "      <th>MARITAL</th>\n",
              "      <th>RACE</th>\n",
              "      <th>ETHNICITY</th>\n",
              "      <th>GENDER</th>\n",
              "      <th>BIRTHPLACE</th>\n",
              "      <th>ADDRESS</th>\n",
              "      <th>CITY</th>\n",
              "      <th>STATE</th>\n",
              "      <th>COUNTY</th>\n",
              "      <th>ZIP</th>\n",
              "      <th>LAT</th>\n",
              "      <th>LON</th>\n",
              "      <th>HEALTHCARE_EXPENSES</th>\n",
              "      <th>HEALTHCARE_COVERAGE</th>\n",
              "    </tr>\n",
              "  </thead>\n",
              "  <tbody>\n",
              "    <tr>\n",
              "      <th>0</th>\n",
              "      <td>47f5131d-ccd1-0c75-1ecf-e86d69c0bbad</td>\n",
              "      <td>1977-04-08</td>\n",
              "      <td>NaN</td>\n",
              "      <td>999-52-9460</td>\n",
              "      <td>S99946427</td>\n",
              "      <td>X44075204X</td>\n",
              "      <td>Ms.</td>\n",
              "      <td>Evelin941</td>\n",
              "      <td>Marks830</td>\n",
              "      <td>NaN</td>\n",
              "      <td>NaN</td>\n",
              "      <td>S</td>\n",
              "      <td>white</td>\n",
              "      <td>nonhispanic</td>\n",
              "      <td>F</td>\n",
              "      <td>Whitman  Massachusetts  US</td>\n",
              "      <td>761 Durgan Alley Unit 44</td>\n",
              "      <td>Norton</td>\n",
              "      <td>Massachusetts</td>\n",
              "      <td>Bristol County</td>\n",
              "      <td>NaN</td>\n",
              "      <td>41.946921</td>\n",
              "      <td>-71.220438</td>\n",
              "      <td>894980.00</td>\n",
              "      <td>2169.76</td>\n",
              "    </tr>\n",
              "    <tr>\n",
              "      <th>1</th>\n",
              "      <td>11df2d68-ee41-de46-08ed-1a459c75ee9a</td>\n",
              "      <td>1979-05-02</td>\n",
              "      <td>NaN</td>\n",
              "      <td>999-87-1437</td>\n",
              "      <td>S99929162</td>\n",
              "      <td>X2897691X</td>\n",
              "      <td>Mrs.</td>\n",
              "      <td>Julia241</td>\n",
              "      <td>Vigil207</td>\n",
              "      <td>NaN</td>\n",
              "      <td>Vergara204</td>\n",
              "      <td>M</td>\n",
              "      <td>white</td>\n",
              "      <td>hispanic</td>\n",
              "      <td>F</td>\n",
              "      <td>Caguas  Puerto Rico  PR</td>\n",
              "      <td>330 Hudson Village</td>\n",
              "      <td>Halifax</td>\n",
              "      <td>Massachusetts</td>\n",
              "      <td>Plymouth County</td>\n",
              "      <td>NaN</td>\n",
              "      <td>41.990457</td>\n",
              "      <td>-70.889567</td>\n",
              "      <td>1051800.00</td>\n",
              "      <td>2720.60</td>\n",
              "    </tr>\n",
              "    <tr>\n",
              "      <th>2</th>\n",
              "      <td>416335f5-4cf8-0ce0-db50-94bffda253ea</td>\n",
              "      <td>1974-01-25</td>\n",
              "      <td>NaN</td>\n",
              "      <td>999-33-8442</td>\n",
              "      <td>S99991454</td>\n",
              "      <td>X75688756X</td>\n",
              "      <td>Mr.</td>\n",
              "      <td>Zackary401</td>\n",
              "      <td>Gorczany269</td>\n",
              "      <td>NaN</td>\n",
              "      <td>NaN</td>\n",
              "      <td>M</td>\n",
              "      <td>black</td>\n",
              "      <td>nonhispanic</td>\n",
              "      <td>M</td>\n",
              "      <td>Uxbridge  Massachusetts  US</td>\n",
              "      <td>968 O'Conner Promenade</td>\n",
              "      <td>Winthrop</td>\n",
              "      <td>Massachusetts</td>\n",
              "      <td>Suffolk County</td>\n",
              "      <td>NaN</td>\n",
              "      <td>42.342134</td>\n",
              "      <td>-71.034131</td>\n",
              "      <td>1240360.00</td>\n",
              "      <td>3148.08</td>\n",
              "    </tr>\n",
              "    <tr>\n",
              "      <th>3</th>\n",
              "      <td>32d1b4a6-fd05-9cf1-71bc-0fdb29db5f1d</td>\n",
              "      <td>1963-08-04</td>\n",
              "      <td>NaN</td>\n",
              "      <td>999-19-9921</td>\n",
              "      <td>S99935430</td>\n",
              "      <td>X17883782X</td>\n",
              "      <td>Ms.</td>\n",
              "      <td>Brittny484</td>\n",
              "      <td>Stracke611</td>\n",
              "      <td>NaN</td>\n",
              "      <td>NaN</td>\n",
              "      <td>S</td>\n",
              "      <td>white</td>\n",
              "      <td>nonhispanic</td>\n",
              "      <td>F</td>\n",
              "      <td>Nantucket  Massachusetts  US</td>\n",
              "      <td>857 Kris Underpass Apt 20</td>\n",
              "      <td>Duxbury</td>\n",
              "      <td>Massachusetts</td>\n",
              "      <td>Plymouth County</td>\n",
              "      <td>NaN</td>\n",
              "      <td>42.051414</td>\n",
              "      <td>-70.680573</td>\n",
              "      <td>1242900.00</td>\n",
              "      <td>3370.52</td>\n",
              "    </tr>\n",
              "    <tr>\n",
              "      <th>4</th>\n",
              "      <td>c49127f5-6363-6909-4d12-a548d418076f</td>\n",
              "      <td>1956-01-21</td>\n",
              "      <td>NaN</td>\n",
              "      <td>999-98-2488</td>\n",
              "      <td>S99972852</td>\n",
              "      <td>X5171852X</td>\n",
              "      <td>Mr.</td>\n",
              "      <td>José Luis472</td>\n",
              "      <td>Serrano248</td>\n",
              "      <td>NaN</td>\n",
              "      <td>NaN</td>\n",
              "      <td>S</td>\n",
              "      <td>white</td>\n",
              "      <td>hispanic</td>\n",
              "      <td>M</td>\n",
              "      <td>Santiago de los Caballeros  Santiago  DO</td>\n",
              "      <td>221 Roberts Union Apt 14</td>\n",
              "      <td>Lynn</td>\n",
              "      <td>Massachusetts</td>\n",
              "      <td>Essex County</td>\n",
              "      <td>1901.0</td>\n",
              "      <td>42.510079</td>\n",
              "      <td>-71.009126</td>\n",
              "      <td>197437.15</td>\n",
              "      <td>5338.73</td>\n",
              "    </tr>\n",
              "  </tbody>\n",
              "</table>\n",
              "</div>"
            ],
            "text/plain": [
              "                                     Id  ... HEALTHCARE_COVERAGE\n",
              "0  47f5131d-ccd1-0c75-1ecf-e86d69c0bbad  ...             2169.76\n",
              "1  11df2d68-ee41-de46-08ed-1a459c75ee9a  ...             2720.60\n",
              "2  416335f5-4cf8-0ce0-db50-94bffda253ea  ...             3148.08\n",
              "3  32d1b4a6-fd05-9cf1-71bc-0fdb29db5f1d  ...             3370.52\n",
              "4  c49127f5-6363-6909-4d12-a548d418076f  ...             5338.73\n",
              "\n",
              "[5 rows x 25 columns]"
            ]
          },
          "metadata": {
            "tags": []
          },
          "execution_count": 241
        }
      ]
    },
    {
      "cell_type": "code",
      "metadata": {
        "colab": {
          "base_uri": "https://localhost:8080/",
          "height": 47
        },
        "id": "kuSKEbqPtpQQ",
        "outputId": "33f6a04e-d1ae-42d8-d705-c110b2fb8415"
      },
      "source": [
        "pd.read_csv(f'/content/drive/MyDrive/csv_data_Oliver/asthma/disease.csv').head()"
      ],
      "execution_count": 242,
      "outputs": [
        {
          "output_type": "execute_result",
          "data": {
            "text/html": [
              "<div>\n",
              "<style scoped>\n",
              "    .dataframe tbody tr th:only-of-type {\n",
              "        vertical-align: middle;\n",
              "    }\n",
              "\n",
              "    .dataframe tbody tr th {\n",
              "        vertical-align: top;\n",
              "    }\n",
              "\n",
              "    .dataframe thead th {\n",
              "        text-align: right;\n",
              "    }\n",
              "</style>\n",
              "<table border=\"1\" class=\"dataframe\">\n",
              "  <thead>\n",
              "    <tr style=\"text-align: right;\">\n",
              "      <th></th>\n",
              "      <th>START</th>\n",
              "      <th>STOP</th>\n",
              "      <th>PATIENT</th>\n",
              "      <th>ENCOUNTER</th>\n",
              "      <th>CODE</th>\n",
              "      <th>DESCRIPTION</th>\n",
              "    </tr>\n",
              "  </thead>\n",
              "  <tbody>\n",
              "  </tbody>\n",
              "</table>\n",
              "</div>"
            ],
            "text/plain": [
              "Empty DataFrame\n",
              "Columns: [START, STOP, PATIENT, ENCOUNTER, CODE, DESCRIPTION]\n",
              "Index: []"
            ]
          },
          "metadata": {
            "tags": []
          },
          "execution_count": 242
        }
      ]
    },
    {
      "cell_type": "code",
      "metadata": {
        "colab": {
          "base_uri": "https://localhost:8080/",
          "height": 281
        },
        "id": "OZrYGdiWtuao",
        "outputId": "35209b62-c40d-4d2e-9c62-bad9dd58c02b"
      },
      "source": [
        "pd.read_csv(f'/content/drive/MyDrive/csv_data_Oliver/asthma/medications.csv').head()"
      ],
      "execution_count": 243,
      "outputs": [
        {
          "output_type": "execute_result",
          "data": {
            "text/html": [
              "<div>\n",
              "<style scoped>\n",
              "    .dataframe tbody tr th:only-of-type {\n",
              "        vertical-align: middle;\n",
              "    }\n",
              "\n",
              "    .dataframe tbody tr th {\n",
              "        vertical-align: top;\n",
              "    }\n",
              "\n",
              "    .dataframe thead th {\n",
              "        text-align: right;\n",
              "    }\n",
              "</style>\n",
              "<table border=\"1\" class=\"dataframe\">\n",
              "  <thead>\n",
              "    <tr style=\"text-align: right;\">\n",
              "      <th></th>\n",
              "      <th>START</th>\n",
              "      <th>STOP</th>\n",
              "      <th>PATIENT</th>\n",
              "      <th>PAYER</th>\n",
              "      <th>ENCOUNTER</th>\n",
              "      <th>CODE</th>\n",
              "      <th>DESCRIPTION</th>\n",
              "      <th>BASE_COST</th>\n",
              "      <th>PAYER_COVERAGE</th>\n",
              "      <th>DISPENSES</th>\n",
              "      <th>TOTALCOST</th>\n",
              "      <th>REASONCODE</th>\n",
              "      <th>REASONDESCRIPTION</th>\n",
              "    </tr>\n",
              "  </thead>\n",
              "  <tbody>\n",
              "    <tr>\n",
              "      <th>0</th>\n",
              "      <td>2014-03-08T09:27:58Z</td>\n",
              "      <td>2017-02-04T09:42:58Z</td>\n",
              "      <td>c49127f5-6363-6909-4d12-a548d418076f</td>\n",
              "      <td>7c4411ce-02f1-39b5-b9ec-dfbea9ad3c1a</td>\n",
              "      <td>f6fdd0f8-b874-f6ef-ea27-102653b788b2</td>\n",
              "      <td>309362</td>\n",
              "      <td>Clopidogrel 75 MG Oral Tablet</td>\n",
              "      <td>41.02</td>\n",
              "      <td>0.00</td>\n",
              "      <td>35</td>\n",
              "      <td>1435.70</td>\n",
              "      <td>NaN</td>\n",
              "      <td>NaN</td>\n",
              "    </tr>\n",
              "    <tr>\n",
              "      <th>1</th>\n",
              "      <td>2014-03-08T09:27:58Z</td>\n",
              "      <td>NaN</td>\n",
              "      <td>c49127f5-6363-6909-4d12-a548d418076f</td>\n",
              "      <td>7c4411ce-02f1-39b5-b9ec-dfbea9ad3c1a</td>\n",
              "      <td>f6fdd0f8-b874-f6ef-ea27-102653b788b2</td>\n",
              "      <td>312961</td>\n",
              "      <td>Simvastatin 20 MG Oral Tablet</td>\n",
              "      <td>23.60</td>\n",
              "      <td>0.00</td>\n",
              "      <td>82</td>\n",
              "      <td>1935.20</td>\n",
              "      <td>NaN</td>\n",
              "      <td>NaN</td>\n",
              "    </tr>\n",
              "    <tr>\n",
              "      <th>2</th>\n",
              "      <td>2014-03-08T09:27:58Z</td>\n",
              "      <td>NaN</td>\n",
              "      <td>c49127f5-6363-6909-4d12-a548d418076f</td>\n",
              "      <td>7c4411ce-02f1-39b5-b9ec-dfbea9ad3c1a</td>\n",
              "      <td>f6fdd0f8-b874-f6ef-ea27-102653b788b2</td>\n",
              "      <td>197361</td>\n",
              "      <td>Amlodipine 5 MG Oral Tablet</td>\n",
              "      <td>39.55</td>\n",
              "      <td>0.00</td>\n",
              "      <td>82</td>\n",
              "      <td>3243.10</td>\n",
              "      <td>NaN</td>\n",
              "      <td>NaN</td>\n",
              "    </tr>\n",
              "    <tr>\n",
              "      <th>3</th>\n",
              "      <td>2014-03-08T09:27:58Z</td>\n",
              "      <td>2017-02-04T09:42:58Z</td>\n",
              "      <td>c49127f5-6363-6909-4d12-a548d418076f</td>\n",
              "      <td>7c4411ce-02f1-39b5-b9ec-dfbea9ad3c1a</td>\n",
              "      <td>f6fdd0f8-b874-f6ef-ea27-102653b788b2</td>\n",
              "      <td>705129</td>\n",
              "      <td>Nitroglycerin 0.4 MG/ACTUAT Mucosal Spray</td>\n",
              "      <td>332.60</td>\n",
              "      <td>272.60</td>\n",
              "      <td>35</td>\n",
              "      <td>11641.00</td>\n",
              "      <td>NaN</td>\n",
              "      <td>NaN</td>\n",
              "    </tr>\n",
              "    <tr>\n",
              "      <th>4</th>\n",
              "      <td>2017-02-04T09:27:58Z</td>\n",
              "      <td>2017-02-04T09:42:58Z</td>\n",
              "      <td>c49127f5-6363-6909-4d12-a548d418076f</td>\n",
              "      <td>7c4411ce-02f1-39b5-b9ec-dfbea9ad3c1a</td>\n",
              "      <td>ba16d965-efab-71be-7d2c-5caedfe8c893</td>\n",
              "      <td>259255</td>\n",
              "      <td>Atorvastatin 80 MG Oral Tablet</td>\n",
              "      <td>491.49</td>\n",
              "      <td>431.49</td>\n",
              "      <td>1</td>\n",
              "      <td>491.49</td>\n",
              "      <td>NaN</td>\n",
              "      <td>NaN</td>\n",
              "    </tr>\n",
              "  </tbody>\n",
              "</table>\n",
              "</div>"
            ],
            "text/plain": [
              "                  START                  STOP  ... REASONCODE REASONDESCRIPTION\n",
              "0  2014-03-08T09:27:58Z  2017-02-04T09:42:58Z  ...        NaN               NaN\n",
              "1  2014-03-08T09:27:58Z                   NaN  ...        NaN               NaN\n",
              "2  2014-03-08T09:27:58Z                   NaN  ...        NaN               NaN\n",
              "3  2014-03-08T09:27:58Z  2017-02-04T09:42:58Z  ...        NaN               NaN\n",
              "4  2017-02-04T09:27:58Z  2017-02-04T09:42:58Z  ...        NaN               NaN\n",
              "\n",
              "[5 rows x 13 columns]"
            ]
          },
          "metadata": {
            "tags": []
          },
          "execution_count": 243
        }
      ]
    },
    {
      "cell_type": "code",
      "metadata": {
        "colab": {
          "base_uri": "https://localhost:8080/"
        },
        "id": "7v-bO3Dtt21Q",
        "outputId": "7f373a78-aa28-49a0-e499-282fc0b3f8b4"
      },
      "source": [
        "cursor.execute(\"SELECT name FROM sqlite_master WHERE type='table';\")\r\n",
        "print(cursor.fetchall())"
      ],
      "execution_count": 244,
      "outputs": [
        {
          "output_type": "stream",
          "text": [
            "[('disease',), ('encounters',), ('patients',), ('careplans',), ('conditions',), ('medications',), ('procedures',), ('observations',), ('devices',), ('imaging_studies',), ('immunizations',)]\n"
          ],
          "name": "stdout"
        }
      ]
    },
    {
      "cell_type": "code",
      "metadata": {
        "colab": {
          "base_uri": "https://localhost:8080/"
        },
        "id": "EGeisTKNt7Yo",
        "outputId": "6fd7f1b0-007c-4edf-d373-dec781acaa16"
      },
      "source": [
        "cursor.execute(\"SELECT * FROM immunizations limit 10;\")\r\n",
        "rows = cursor.fetchall()\r\n",
        "for row in rows:\r\n",
        "  print(row)"
      ],
      "execution_count": 245,
      "outputs": [
        {
          "output_type": "stream",
          "text": [
            "('2011-06-24T09:28:17Z', '47f5131d-ccd1-0c75-1ecf-e86d69c0bbad', 'fb4fbf02-f226-57df-4833-6ae69dbe7585', 140, 'Influenza  seasonal  injectable  preservative free', 140.52)\n",
            "('2014-06-27T09:28:17Z', '47f5131d-ccd1-0c75-1ecf-e86d69c0bbad', '419132c1-42c1-d19b-5012-e156305bda0a', 140, 'Influenza  seasonal  injectable  preservative free', 140.52)\n",
            "('2017-04-14T09:28:17Z', '47f5131d-ccd1-0c75-1ecf-e86d69c0bbad', '3397fd20-fbb5-b5a0-479e-a476794bc108', 140, 'Influenza  seasonal  injectable  preservative free', 140.52)\n",
            "('2017-04-14T09:28:17Z', '47f5131d-ccd1-0c75-1ecf-e86d69c0bbad', '3397fd20-fbb5-b5a0-479e-a476794bc108', 52, 'Hep A  adult', 140.52)\n",
            "('2019-04-19T09:28:17Z', '47f5131d-ccd1-0c75-1ecf-e86d69c0bbad', '07ab566c-22bb-a641-735f-373eb17289b5', 140, 'Influenza  seasonal  injectable  preservative free', 140.52)\n",
            "('2019-04-19T09:28:17Z', '47f5131d-ccd1-0c75-1ecf-e86d69c0bbad', '07ab566c-22bb-a641-735f-373eb17289b5', 113, 'Td (adult) preservative free', 140.52)\n",
            "('2019-04-19T09:28:17Z', '47f5131d-ccd1-0c75-1ecf-e86d69c0bbad', '07ab566c-22bb-a641-735f-373eb17289b5', 52, 'Hep A  adult', 140.52)\n",
            "('2011-08-28T18:38:56Z', '32d1b4a6-fd05-9cf1-71bc-0fdb29db5f1d', 'd768da1c-d475-fbc5-d816-74fc93c3cf8b', 140, 'Influenza  seasonal  injectable  preservative free', 140.52)\n",
            "('2013-08-04T18:38:56Z', '32d1b4a6-fd05-9cf1-71bc-0fdb29db5f1d', '18d3b956-7407-eba1-f72d-aeb9f8e2b1a8', 121, 'zoster', 140.52)\n",
            "('2013-08-04T18:38:56Z', '32d1b4a6-fd05-9cf1-71bc-0fdb29db5f1d', '18d3b956-7407-eba1-f72d-aeb9f8e2b1a8', 140, 'Influenza  seasonal  injectable  preservative free', 140.52)\n"
          ],
          "name": "stdout"
        }
      ]
    },
    {
      "cell_type": "markdown",
      "metadata": {
        "id": "mAmvh307s_hT"
      },
      "source": [
        "# Indexing"
      ]
    },
    {
      "cell_type": "code",
      "metadata": {
        "id": "16pTp3M9syFt"
      },
      "source": [
        "# show created indices db_file SHOW INDEXES FROM database_name.table_name\r\n",
        "cursor.execute(\"SHOW INDEX FROM encounters.csv\")"
      ],
      "execution_count": null,
      "outputs": []
    },
    {
      "cell_type": "markdown",
      "metadata": {
        "id": "Z6kvw8rEywLq"
      },
      "source": [
        "Fragen:\r\n",
        "\r\n",
        "Grafisches Dankenbankschema?\r\n",
        "\r\n",
        "INDEXING?\r\n",
        "\r\n",
        "Foreign Key constraints\r\n"
      ]
    }
  ]
}